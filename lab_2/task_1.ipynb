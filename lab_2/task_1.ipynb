{
 "cells": [
  {
   "cell_type": "markdown",
   "metadata": {},
   "source": [
    "# Zadanie 1: Sprawdzanie Obliczeń Arytmetycznych w Scenariuszu Few-Shot\n",
    "\n",
    "W tym zadaniu chcemy zbadać, jak dobrze wybrany model językowy (100M-1B parametrów)\n",
    "radzi sobie z obliczeniami prostych wyrażeń arytmetycznych w scenariuszu few-shot.\n",
    "\n",
    "**Wymagania:**\n",
    "1. Pokazać scenariusz, w którym wyniki modelu są istotnie lepsze niż losowe.\n",
    "2. Wyciągnąć wnioski i zawrzeć je w notatniku.\n",
    "\n",
    "**Opcje dodatkowe:** \n",
    "- Analiza błędów i ewentualnych zniekształceń (bias).\n",
    "- Bardziej złożone działania arytmetyczne.\n",
    "- Badanie wrażliwości na zmiany w prompty.\n",
    "\n",
    "W niniejszym notatniku zademonstruję prosty scenariusz, gdzie model ma za zadanie\n",
    "wykonać dodawanie i odejmowanie liczb całkowitych z pewnym kontekstem w stylu few-shot.\n",
    "\"\"\"\n"
   ]
  },
  {
   "cell_type": "code",
   "execution_count": 1,
   "metadata": {},
   "outputs": [
    {
     "name": "stderr",
     "output_type": "stream",
     "text": [
      "/pio/scratch/1/i317214/miniconda/envs/hallucination_detection/lib/python3.11/site-packages/tqdm/auto.py:21: TqdmWarning: IProgress not found. Please update jupyter and ipywidgets. See https://ipywidgets.readthedocs.io/en/stable/user_install.html\n",
      "  from .autonotebook import tqdm as notebook_tqdm\n"
     ]
    },
    {
     "name": "stdout",
     "output_type": "stream",
     "text": [
      "[INFO] Loading model: eryk-mazus/polka-1.1b\n",
      "[INFO] Using device: cuda\n"
     ]
    }
   ],
   "source": [
    "# 2) Importy i Inicjalizacja\n",
    "\n",
    "import os\n",
    "import sys\n",
    "\n",
    "# Zakładamy, że nasz \"utils.py\" jest w katalogu nadrzędnym:\n",
    "sys.path.append('..')\n",
    "\n",
    "from utils import load_qa_pairs, evaluate_model, LanguageModel\n",
    "\n",
    "# Inicjalizacja modelu\n",
    "handler = LanguageModel()  # Zależnie od implementacji wewnątrz utils"
   ]
  },
  {
   "cell_type": "markdown",
   "metadata": {},
   "source": [
    "Aby zademonstrować zdolności modelu, wygenerujemy zestaw prostych przykładów \n",
    "dodawania i odejmowania. Będziemy zadawać pytania typu 'Ile to jest X + Y?' lub \n",
    "'Ile to jest X - Y?'.\n",
    "\n",
    "Następnie model otrzyma pewien prompt few-shot, w którym pokażemy mu, jak \n",
    "poprawnie odpowiadać. Następnie sprawdzimy, jaki procent poprawnych wyników \n",
    "uzyskamy. Na końcu porównamy wynik z losowym strzelaniem."
   ]
  },
  {
   "cell_type": "code",
   "execution_count": 2,
   "metadata": {},
   "outputs": [
    {
     "name": "stdout",
     "output_type": "stream",
     "text": [
      "Pytanie: Ile to jest 22 + 21? | Odpowiedź: 43\n",
      "Pytanie: Ile to jest 17 - 29? | Odpowiedź: -12\n",
      "Pytanie: Ile to jest 29 - 22? | Odpowiedź: 7\n",
      "Pytanie: Ile to jest 5 + 2? | Odpowiedź: 7\n",
      "Pytanie: Ile to jest 4 - 10? | Odpowiedź: -6\n"
     ]
    }
   ],
   "source": [
    "# 4) Generowanie Prostej Bazy Zadaniowej\n",
    "import random\n",
    "\n",
    "def generate_arithmetic_questions(n=20, max_val=20):\n",
    "    \"\"\"\n",
    "    Generuje proste pytania w formacie:\n",
    "    \"Ile to jest X + Y?\" lub \"Ile to jest X - Y?\"\n",
    "    Zwraca listę (pytanie, odpowiedź).\n",
    "    \"\"\"\n",
    "    data = []\n",
    "    for _ in range(n):\n",
    "        x = random.randint(0, max_val)\n",
    "        y = random.randint(0, max_val)\n",
    "        \n",
    "        if random.random() < 0.5:\n",
    "            # Dodawanie\n",
    "            question = f\"Ile to jest {x} + {y}?\"\n",
    "            answer = str(x + y)\n",
    "        else:\n",
    "            # Odejmowanie\n",
    "            question = f\"Ile to jest {x} - {y}?\"\n",
    "            answer = str(x - y)\n",
    "        \n",
    "        data.append((question, answer))\n",
    "    return data\n",
    "\n",
    "# Generujemy np. 20 przykładów do testu\n",
    "test_data = generate_arithmetic_questions(n=20, max_val=30)\n",
    "\n",
    "# Sprawdzamy przykładowe pary\n",
    "for q, a in test_data[:5]:\n",
    "    print(f\"Pytanie: {q} | Odpowiedź: {a}\")"
   ]
  },
  {
   "cell_type": "markdown",
   "metadata": {},
   "source": [
    "Napiszemy funkcję, która stworzy prompt w stylu few-shot:\n",
    "- Dodamy kilka przykładów z poprawnym rozwiązaniem,\n",
    "- Potem wstawimy aktualne pytanie i poprosimy o wynik.\n",
    "\n",
    "Następnie poprosimy model o wygenerowanie odpowiedzi."
   ]
  },
  {
   "cell_type": "code",
   "execution_count": 3,
   "metadata": {},
   "outputs": [],
   "source": [
    "few_shot_examples = [\n",
    "    (\"Ile to jest 2 + 3?\", \"5\"),\n",
    "    (\"Ile to jest 10 - 4?\", \"6\"),\n",
    "    (\"Ile to jest 7 + 7?\", \"14\"),\n",
    "]\n",
    "\n",
    "def build_few_shot_prompt(question: str) -> str:\n",
    "    \"\"\"\n",
    "    Buduje prompt few-shot, pokazując kilka przykładowych pytań i odpowiedzi,\n",
    "    po czym pyta o docelowe pytanie.\n",
    "    \"\"\"\n",
    "    prompt = \"Odpowiadaj tylko liczbą (bez tekstu dodatkowego). Oto przykłady:\\n\\n\"\n",
    "    for ex_q, ex_a in few_shot_examples:\n",
    "        prompt += f\"Pytanie: {ex_q}\\nOdpowiedź: {ex_a}\\n\\n\"\n",
    "    prompt += f\"Pytanie: {question}\\nOdpowiedź:\"\n",
    "    return prompt"
   ]
  },
  {
   "cell_type": "code",
   "execution_count": 11,
   "metadata": {},
   "outputs": [],
   "source": [
    "# 7) Funkcja Generująca Odpowiedzi z Modelu w Stylu Few-Shot\n",
    "\n",
    "def generate_arithmetic_answer(question: str, handler: LanguageModel) -> str:\n",
    "    \"\"\"\n",
    "    Konstruuje prompt few-shot i wywołuje model, aby wygenerować odpowiedź.\n",
    "    Następnie zwraca ją w formie stringu (np. '5').\n",
    "    \"\"\"\n",
    "    prompt = build_few_shot_prompt(question)\n",
    "    \n",
    "    # Zakładamy, że LanguageModel ma metodę generate_text\n",
    "    # Możemy podać parametry: max_new_tokens, temperature itp.\n",
    "    generated = handler.generate_text(\n",
    "        prompt=prompt,\n",
    "        max_new_tokens=5,        # wystarczy mały limit\n",
    "        temperature=0.0,         # deterministyczne generowanie\n",
    "        top_k=50,\n",
    "        top_p=0.95\n",
    "    )\n",
    "    \n",
    "    return generated.split(\"\\n\")[0].strip()"
   ]
  },
  {
   "cell_type": "code",
   "execution_count": 12,
   "metadata": {},
   "outputs": [
    {
     "name": "stdout",
     "output_type": "stream",
     "text": [
      "[BŁĄD] Ile to jest 17 - 29? => Model: 12, Poprawna: -12\n",
      "[BŁĄD] Ile to jest 4 - 10? => Model: 4, Poprawna: -6\n",
      "[BŁĄD] Ile to jest 16 + 24? => Model: 39, Poprawna: 40\n",
      "[BŁĄD] Ile to jest 3 - 6? => Model: 7, Poprawna: -3\n",
      "[BŁĄD] Ile to jest 28 + 1? => Model: 39, Poprawna: 29\n",
      "[BŁĄD] Ile to jest 13 - 24? => Model: 10, Poprawna: -11\n",
      "[BŁĄD] Ile to jest 18 - 19? => Model: 1, Poprawna: -1\n",
      "[BŁĄD] Ile to jest 2 - 17? => Model: 10, Poprawna: -15\n",
      "[BŁĄD] Ile to jest 8 + 11? => Model: 29, Poprawna: 19\n",
      "[BŁĄD] Ile to jest 28 - 30? => Model: 10, Poprawna: -2\n",
      "[BŁĄD] Ile to jest 1 + 9? => Model: 2, Poprawna: 10\n",
      "\n",
      "Uzyskana dokładność: 45.00% (9/20)\n"
     ]
    }
   ],
   "source": [
    "# 8) Testowanie i Ewaluacja\n",
    "# Porównamy odpowiedzi modelu z ground truth i sprawdzimy trafność\n",
    "\n",
    "correct = 0\n",
    "total = len(test_data)\n",
    "\n",
    "for (q, true_ans) in test_data:\n",
    "    model_ans = generate_arithmetic_answer(q, handler)\n",
    "    # Porównujemy z prawdziwą odpowiedzią\n",
    "    if model_ans == true_ans:\n",
    "        correct += 1\n",
    "    else:\n",
    "        print(f\"[BŁĄD] {q} => Model: {model_ans}, Poprawna: {true_ans}\")\n",
    "\n",
    "accuracy = correct / total\n",
    "print(f\"\\nUzyskana dokładność: {accuracy * 100:.2f}% ({correct}/{total})\")"
   ]
  },
  {
   "cell_type": "markdown",
   "metadata": {},
   "source": [
    "Dla porównania policzymy średnie trafienie \"losowe\".\n",
    "W naszym wypadku, jeśli generujemy losowo liczbę w jakimś zakresie, np. -30 do 60 \n",
    "(dla max_val=30, odejmowanie może dać minus, dodawanie max 60), \n",
    "to prawdopodobieństwo trafienia w jedną konkretną liczbę jest ~1/(60+30+1) itp. \n",
    "lub sprawdzamy empirycznie."
   ]
  },
  {
   "cell_type": "code",
   "execution_count": 14,
   "metadata": {},
   "outputs": [
    {
     "name": "stdout",
     "output_type": "stream",
     "text": [
      "Losowe trafienie: 0.00% (0/20)\n"
     ]
    }
   ],
   "source": [
    "# 10) Porównanie z Losowym (kod)\n",
    "import random\n",
    "\n",
    "def random_guess_arithmetic(test_data):\n",
    "    \"\"\"\n",
    "    Zwraca, ile trafień mielibyśmy, gdybyśmy zgadywali w pewnym zakresie, np. od -30 do 60\n",
    "    \"\"\"\n",
    "    guess_range = range(-30, 61)\n",
    "    correct_rand = 0\n",
    "    for (q, true_ans) in test_data:\n",
    "        # losujemy str(liczba)\n",
    "        guess = str(random.choice(guess_range))\n",
    "        if guess == true_ans:\n",
    "            correct_rand += 1\n",
    "    return correct_rand\n",
    "\n",
    "random_correct = random_guess_arithmetic(test_data)\n",
    "random_accuracy = random_correct / len(test_data)\n",
    "print(f\"Losowe trafienie: {random_accuracy*100:.2f}% ({random_correct}/{len(test_data)})\")\n"
   ]
  },
  {
   "cell_type": "code",
   "execution_count": 23,
   "metadata": {},
   "outputs": [
    {
     "name": "stdout",
     "output_type": "stream",
     "text": [
      "Generowanie macierzy (x + y):\n",
      "\n"
     ]
    },
    {
     "name": "stderr",
     "output_type": "stream",
     "text": [
      "Tworzenie heatmapy: 100%|██████████| 1600/1600 [02:20<00:00, 11.37it/s]\n"
     ]
    },
    {
     "data": {
      "image/png": "[encoded data removed]",
      "text/plain": [
       "<Figure size 800x600 with 2 Axes>"
      ]
     },
     "metadata": {},
     "output_type": "display_data"
    }
   ],
   "source": [
    "# 12) Heatmap: 100 x 100 (x + y) – zaznaczenie poprawnych i błędnych odpowiedzi\n",
    "# Wszystko w jednej komórce, z użyciem tqdm i matplotlib\n",
    "\n",
    "import numpy as np\n",
    "import matplotlib.pyplot as plt\n",
    "from tqdm import tqdm\n",
    "\n",
    "N = 100\n",
    "results_matrix = np.zeros((N, N))\n",
    "\n",
    "print(\"Generowanie macierzy (x + y):\\n\")\n",
    "with tqdm(total=N*N, desc=\"Tworzenie heatmapy\") as pbar:\n",
    "    for x in range(N):\n",
    "        x = int(x - N/2)\n",
    "        for y in range(N):\n",
    "            y = int(y - N/2)\n",
    "            question = f\"Ile to jest {x} + {y}?\"\n",
    "            correct_answer = str(x + y)\n",
    "\n",
    "            # Generujemy odpowiedź modelu (few-shot):\n",
    "            prompt = build_few_shot_prompt(question)\n",
    "            generated = handler.generate_text(\n",
    "                prompt=prompt,\n",
    "                max_new_tokens=5,\n",
    "                temperature=0.0,\n",
    "                top_k=50,\n",
    "                top_p=0.95\n",
    "            )\n",
    "            if not generated:\n",
    "                model_ans = \"\"\n",
    "            else:\n",
    "                raw_answer = generated[0].replace(prompt, \"\").strip()\n",
    "                raw_answer = raw_answer.replace(\"Odpowiedź:\", \"\").strip().rstrip(\".!? \")\n",
    "                model_ans = raw_answer\n",
    "\n",
    "            # Sprawdzamy poprawność:\n",
    "            if model_ans == correct_answer:\n",
    "                results_matrix[int(x+N/2), int(y+N/2)] = 1  # 1 = poprawne\n",
    "            else:\n",
    "                results_matrix[int(x+N/2), int(y+N/2)] = 0  # 0 = błędne\n",
    "            \n",
    "            pbar.update(1)\n",
    "\n",
    "# Wizualizacja: 1 = zielone, 0 = czerwone\n",
    "plt.figure(figsize=(8, 6))\n",
    "plt.title(\"Heatmapa poprawności (Ile to jest x + y?)\\n1 = poprawne (zielone), 0 = błędne (czerwone)\")\n",
    "plt.imshow(results_matrix, cmap=\"RdYlGn\", origin='upper')\n",
    "plt.colorbar(label=\"Poprawność\")\n",
    "plt.xlabel(\"y\")\n",
    "plt.ylabel(\"x\")\n",
    "# adjust axis\n",
    "plt.xticks(np.linspace(0, N, 5), np.linspace(-N/2, N/2, 5).astype(int))\n",
    "plt.yticks(np.linspace(0, N, 5), np.linspace(-N/2, N/2, 5).astype(int))\n",
    "# display black grid\n",
    "# plt.grid(color='black', linestyle='-', linewidth=0.5)\n",
    "plt.savefig('heatmap_addition.png')\n",
    "plt.show()\n"
   ]
  },
  {
   "cell_type": "code",
   "execution_count": 24,
   "metadata": {},
   "outputs": [
    {
     "name": "stdout",
     "output_type": "stream",
     "text": [
      "Generowanie macierzy (x - y):\n",
      "\n"
     ]
    },
    {
     "name": "stderr",
     "output_type": "stream",
     "text": [
      "Tworzenie heatmapy: 100%|██████████| 1600/1600 [02:19<00:00, 11.46it/s]\n"
     ]
    },
    {
     "data": {
      "image/png": "[encoded data removed]",
      "text/plain": [
       "<Figure size 800x600 with 2 Axes>"
      ]
     },
     "metadata": {},
     "output_type": "display_data"
    }
   ],
   "source": [
    "# 12) Heatmap: 100 x 100 (x + y) – zaznaczenie poprawnych i błędnych odpowiedzi\n",
    "# Wszystko w jednej komórce, z użyciem tqdm i matplotlib\n",
    "\n",
    "import numpy as np\n",
    "import matplotlib.pyplot as plt\n",
    "from tqdm import tqdm\n",
    "\n",
    "N = 100\n",
    "results_matrix = np.zeros((N, N))\n",
    "\n",
    "print(\"Generowanie macierzy (x - y):\\n\")\n",
    "with tqdm(total=N*N, desc=\"Tworzenie heatmapy\") as pbar:\n",
    "    for x in range(N):\n",
    "        x = int(x - N/2)\n",
    "        for y in range(N):\n",
    "            y = int(y - N/2)\n",
    "            question = f\"Ile to jest {x} - {y}?\"\n",
    "            correct_answer = str(x - y)\n",
    "\n",
    "            # Generujemy odpowiedź modelu (few-shot):\n",
    "            prompt = build_few_shot_prompt(question)\n",
    "            generated = handler.generate_text(\n",
    "                prompt=prompt,\n",
    "                max_new_tokens=5,\n",
    "                temperature=0.0,\n",
    "                top_k=50,\n",
    "                top_p=0.95\n",
    "            )\n",
    "            if not generated:\n",
    "                model_ans = \"\"\n",
    "            else:\n",
    "                raw_answer = generated[0].replace(prompt, \"\").strip()\n",
    "                raw_answer = raw_answer.replace(\"Odpowiedź:\", \"\").strip().rstrip(\".!? \")\n",
    "                model_ans = raw_answer\n",
    "\n",
    "            # Sprawdzamy poprawność:\n",
    "            if model_ans == correct_answer:\n",
    "                results_matrix[int(x+N/2), int(y+N/2)] = 1  # 1 = poprawne\n",
    "            else:\n",
    "                results_matrix[int(x+N/2), int(y+N/2)] = 0  # 0 = błędne\n",
    "            \n",
    "            pbar.update(1)\n",
    "\n",
    "# Wizualizacja: 1 = zielone, 0 = czerwone\n",
    "plt.figure(figsize=(8, 6))\n",
    "plt.title(\"Heatmapa poprawności (Ile to jest x - y?)\\n1 = poprawne (zielone), 0 = błędne (czerwone)\")\n",
    "plt.imshow(results_matrix, cmap=\"RdYlGn\", origin='upper')\n",
    "plt.colorbar(label=\"Poprawność\")\n",
    "plt.xlabel(\"y\")\n",
    "plt.ylabel(\"x\")\n",
    "# adjust axis\n",
    "plt.xticks(np.linspace(0, N, 5), np.linspace(-N/2, N/2, 5).astype(int))\n",
    "plt.yticks(np.linspace(0, N, 5), np.linspace(-N/2, N/2, 5).astype(int))\n",
    "# display black grid\n",
    "# plt.grid(color='black', linestyle='-', linewidth=0.5)\n",
    "plt.savefig('heatmap_substraction.png')\n",
    "plt.show()\n"
   ]
  },
  {
   "cell_type": "code",
   "execution_count": null,
   "metadata": {},
   "outputs": [],
   "source": []
  }
 ],
 "metadata": {
  "kernelspec": {
   "display_name": "hallucination_detection",
   "language": "python",
   "name": "python3"
  },
  "language_info": {
   "codemirror_mode": {
    "name": "ipython",
    "version": 3
   },
   "file_extension": ".py",
   "mimetype": "text/x-python",
   "name": "python",
   "nbconvert_exporter": "python",
   "pygments_lexer": "ipython3",
   "version": "3.11.10"
  }
 },
 "nbformat": 4,
 "nbformat_minor": 2
}
